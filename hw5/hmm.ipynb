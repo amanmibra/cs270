{
 "cells": [
  {
   "cell_type": "markdown",
   "metadata": {},
   "source": [
    "# Hidden Markov Models\n",
    "Initialize a hidden Markov model:"
   ]
  },
  {
   "cell_type": "code",
   "execution_count": 1,
   "metadata": {},
   "outputs": [],
   "source": [
    "import numpy as np\n",
    "from hmm import HMM\n",
    "np.random.seed(0)  # Fix the seed to be able to reproduce the same results\n",
    "kwargs = {\n",
    "    'width'     : 32,\n",
    "    'length'    : 32,\n",
    "    'rssi_range': 4,\n",
    "    'n_beacons' : 32,\n",
    "    'init_pos'  : (0,0)\n",
    "}\n",
    "model = HMM(**kwargs)"
   ]
  },
  {
   "cell_type": "markdown",
   "metadata": {},
   "source": [
    "## Observation Model\n",
    "Plot the observation probabilities of the beacon 0:"
   ]
  },
  {
   "cell_type": "code",
   "execution_count": 2,
   "metadata": {},
   "outputs": [
    {
     "data": {
      "image/png": "[encoded data removed]",
      "text/plain": [
       "<Figure size 576x504 with 2 Axes>"
      ]
     },
     "metadata": {
      "needs_background": "light"
     },
     "output_type": "display_data"
    }
   ],
   "source": [
    "beacon = 0\n",
    "model.plot_obs_probs(beacon)"
   ]
  },
  {
   "cell_type": "markdown",
   "metadata": {},
   "source": [
    "## Transition Model\n",
    "Generate a random trajectory along with the observations:"
   ]
  },
  {
   "cell_type": "code",
   "execution_count": 3,
   "metadata": {},
   "outputs": [
    {
     "data": {
      "image/png": "[encoded data removed]",
      "text/plain": [
       "<Figure size 576x504 with 2 Axes>"
      ]
     },
     "metadata": {
      "needs_background": "light"
     },
     "output_type": "display_data"
    }
   ],
   "source": [
    "T = 1<<8  # Time steps\n",
    "actual_path, observations = model.generate_path(T)\n",
    "model.plot(path=actual_path)"
   ]
  },
  {
   "cell_type": "markdown",
   "metadata": {},
   "source": [
    "## Prediction (without Observations)\n",
    "Predict the future states without the observations:"
   ]
  },
  {
   "cell_type": "code",
   "execution_count": 4,
   "metadata": {},
   "outputs": [
    {
     "data": {
      "application/vnd.jupyter.widget-view+json": {
       "model_id": "084303a36ad843968a19a54e064997d5",
       "version_major": 2,
       "version_minor": 0
      },
      "text/plain": [
       "interactive(children=(IntSlider(value=0, description='t', max=255), Output()), _dom_classes=('widget-interact'…"
      ]
     },
     "metadata": {},
     "output_type": "display_data"
    }
   ],
   "source": [
    "predicted_probs = np.empty((T,model.n_states))\n",
    "predicted_probs[0] = model.init_probs\n",
    "for t in range(1,T):\n",
    "    predicted_probs[t] = model.predict(predicted_probs[t-1])\n",
    "model.plot(predicted_probs,title='prediction')"
   ]
  },
  {
   "cell_type": "markdown",
   "metadata": {},
   "source": [
    "## Monitoring\n",
    "Compute the probability of the current state given all the previous observations:"
   ]
  },
  {
   "cell_type": "code",
   "execution_count": 5,
   "metadata": {},
   "outputs": [
    {
     "data": {
      "application/vnd.jupyter.widget-view+json": {
       "model_id": "e2ee5880db944f5d86f05bbd0f0d9753",
       "version_major": 2,
       "version_minor": 0
      },
      "text/plain": [
       "interactive(children=(IntSlider(value=0, description='t', max=255), Output()), _dom_classes=('widget-interact'…"
      ]
     },
     "metadata": {},
     "output_type": "display_data"
    }
   ],
   "source": [
    "model.n_beacons = 4\n",
    "monitoring_probs = model.monitor(T,observations)\n",
    "model.plot(monitoring_probs,actual_path,title='monitoring')"
   ]
  },
  {
   "cell_type": "markdown",
   "metadata": {},
   "source": [
    "## Case Study I: Uniform Initial Distribution\n",
    "Use the uniform distribution as the initial condition (we have no idea where the sensor is initially):"
   ]
  },
  {
   "cell_type": "code",
   "execution_count": 6,
   "metadata": {},
   "outputs": [],
   "source": [
    "model.init_probs = np.ones(model.n_states)/model.n_states"
   ]
  },
  {
   "cell_type": "markdown",
   "metadata": {},
   "source": [
    "### Monitoring\n",
    "Monitor the position of the sensor. Is the filter able to track the mobile sensor although it doesn't know where it is initially?"
   ]
  },
  {
   "cell_type": "code",
   "execution_count": 7,
   "metadata": {},
   "outputs": [
    {
     "data": {
      "application/vnd.jupyter.widget-view+json": {
       "model_id": "a7da360dcdf74f3291e489f5469f1c18",
       "version_major": 2,
       "version_minor": 0
      },
      "text/plain": [
       "interactive(children=(IntSlider(value=0, description='t', max=255), Output()), _dom_classes=('widget-interact'…"
      ]
     },
     "metadata": {},
     "output_type": "display_data"
    }
   ],
   "source": [
    "monitoring_probs = model.monitor(T,observations)\n",
    "model.plot(monitoring_probs,actual_path,title='monitoring')"
   ]
  },
  {
   "cell_type": "markdown",
   "metadata": {},
   "source": [
    "### Hindsight Reasoning\n",
    "Smooth the estimation using backwards probabilities. Can you estimate the initial position of the sensor?"
   ]
  },
  {
   "cell_type": "code",
   "execution_count": 8,
   "metadata": {},
   "outputs": [
    {
     "name": "stderr",
     "output_type": "stream",
     "text": [
      "/Users/alperkamil/Box/ai/hw5/stu/hmm.py:219: RuntimeWarning: divide by zero encountered in true_divide\n",
      "  hindsight_probs = (hindsight_probs.T / np.sum(hindsight_probs, axis=1)).T  # Normalization\n",
      "/Users/alperkamil/Box/ai/hw5/stu/hmm.py:219: RuntimeWarning: invalid value encountered in true_divide\n",
      "  hindsight_probs = (hindsight_probs.T / np.sum(hindsight_probs, axis=1)).T  # Normalization\n"
     ]
    },
    {
     "data": {
      "application/vnd.jupyter.widget-view+json": {
       "model_id": "a93af8a3a2614e5ab38ed567d4c48af0",
       "version_major": 2,
       "version_minor": 0
      },
      "text/plain": [
       "interactive(children=(IntSlider(value=0, description='t', max=255), Output()), _dom_classes=('widget-interact'…"
      ]
     },
     "metadata": {},
     "output_type": "display_data"
    }
   ],
   "source": [
    "hindsight_probs = model.hindsight(T,observations)\n",
    "model.plot(hindsight_probs,actual_path,title='hindsight')"
   ]
  },
  {
   "cell_type": "markdown",
   "metadata": {},
   "source": [
    "## Case Study II: Incorrect Initial Distribution\n",
    "What if we guess the initial position wrong? Let's say we think the sensor is at the top-right corner instead of the bottom-left corner initially."
   ]
  },
  {
   "cell_type": "code",
   "execution_count": 9,
   "metadata": {},
   "outputs": [],
   "source": [
    "model.init_probs = 1e-16*np.ones(model.n_states)\n",
    "model.init_probs[-1] = 1  # The opposite corner (31,31)\n",
    "model.init_probs /= np.sum(model.init_probs)"
   ]
  },
  {
   "cell_type": "markdown",
   "metadata": {},
   "source": [
    "### Monitoring\n",
    "Is the filter still able to track the mobile sensor?"
   ]
  },
  {
   "cell_type": "code",
   "execution_count": 10,
   "metadata": {},
   "outputs": [
    {
     "data": {
      "application/vnd.jupyter.widget-view+json": {
       "model_id": "b215545398d8448f831dc3b586cb95a4",
       "version_major": 2,
       "version_minor": 0
      },
      "text/plain": [
       "interactive(children=(IntSlider(value=0, description='t', max=255), Output()), _dom_classes=('widget-interact'…"
      ]
     },
     "metadata": {},
     "output_type": "display_data"
    }
   ],
   "source": [
    "monitoring_probs = model.monitor(T,observations)\n",
    "model.plot(monitoring_probs,actual_path,title='monitoring')"
   ]
  },
  {
   "cell_type": "markdown",
   "metadata": {},
   "source": [
    "### Hindsight Reasoning\n",
    "Can we correct our guess for the initial position using hindsight reasoning?"
   ]
  },
  {
   "cell_type": "code",
   "execution_count": 11,
   "metadata": {},
   "outputs": [
    {
     "name": "stderr",
     "output_type": "stream",
     "text": [
      "/Users/alperkamil/Box/ai/hw5/stu/hmm.py:219: RuntimeWarning: divide by zero encountered in true_divide\n",
      "  hindsight_probs = (hindsight_probs.T / np.sum(hindsight_probs, axis=1)).T  # Normalization\n",
      "/Users/alperkamil/Box/ai/hw5/stu/hmm.py:219: RuntimeWarning: invalid value encountered in true_divide\n",
      "  hindsight_probs = (hindsight_probs.T / np.sum(hindsight_probs, axis=1)).T  # Normalization\n"
     ]
    },
    {
     "data": {
      "application/vnd.jupyter.widget-view+json": {
       "model_id": "5af8619a48f24c7f8f5ccb5f32f3a7c7",
       "version_major": 2,
       "version_minor": 0
      },
      "text/plain": [
       "interactive(children=(IntSlider(value=0, description='t', max=255), Output()), _dom_classes=('widget-interact'…"
      ]
     },
     "metadata": {},
     "output_type": "display_data"
    }
   ],
   "source": [
    "hindsight_probs = model.hindsight(T,observations)\n",
    "model.plot(hindsight_probs,actual_path,title='hindsight')"
   ]
  },
  {
   "cell_type": "markdown",
   "metadata": {},
   "source": [
    "## Case Study III: Different Number of Beacons"
   ]
  },
  {
   "cell_type": "code",
   "execution_count": 12,
   "metadata": {},
   "outputs": [],
   "source": [
    "model.init_probs = model.get_init_probs(kwargs['init_pos'])  # Reset the initial distribution"
   ]
  },
  {
   "cell_type": "markdown",
   "metadata": {},
   "source": [
    "### Monitoring (1 Beacon)\n",
    "Do we need more than one beacon to track the sensor, or is one enough?"
   ]
  },
  {
   "cell_type": "code",
   "execution_count": 13,
   "metadata": {},
   "outputs": [
    {
     "data": {
      "application/vnd.jupyter.widget-view+json": {
       "model_id": "9eab8756b0b34d5587f24f775ff7f9b7",
       "version_major": 2,
       "version_minor": 0
      },
      "text/plain": [
       "interactive(children=(IntSlider(value=0, description='t', max=255), Output()), _dom_classes=('widget-interact'…"
      ]
     },
     "metadata": {},
     "output_type": "display_data"
    }
   ],
   "source": [
    "model.n_beacons = 1\n",
    "monitoring_probs = model.monitor(T,observations)\n",
    "model.plot(monitoring_probs,actual_path,title='monitoring')"
   ]
  },
  {
   "cell_type": "markdown",
   "metadata": {},
   "source": [
    "### Monitoring (32 Beacons)\n",
    "How about more beacons? Is it worth it to buy many beacons?"
   ]
  },
  {
   "cell_type": "code",
   "execution_count": 14,
   "metadata": {},
   "outputs": [
    {
     "data": {
      "application/vnd.jupyter.widget-view+json": {
       "model_id": "677255a050624784bb96fd5983286865",
       "version_major": 2,
       "version_minor": 0
      },
      "text/plain": [
       "interactive(children=(IntSlider(value=0, description='t', max=255), Output()), _dom_classes=('widget-interact'…"
      ]
     },
     "metadata": {},
     "output_type": "display_data"
    }
   ],
   "source": [
    "model.n_beacons = 32\n",
    "monitoring_probs = model.monitor(T,observations)\n",
    "model.plot(monitoring_probs,actual_path,title='monitoring')"
   ]
  }
 ],
 "metadata": {
  "kernelspec": {
   "display_name": "Python 3",
   "language": "python",
   "name": "python3"
  },
  "language_info": {
   "codemirror_mode": {
    "name": "ipython",
    "version": 3
   },
   "file_extension": ".py",
   "mimetype": "text/x-python",
   "name": "python",
   "nbconvert_exporter": "python",
   "pygments_lexer": "ipython3",
   "version": "3.6.7"
  }
 },
 "nbformat": 4,
 "nbformat_minor": 2
}
